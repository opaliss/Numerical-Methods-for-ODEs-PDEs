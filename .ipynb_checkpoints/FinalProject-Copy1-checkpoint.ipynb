{
 "cells": [
  {
   "cell_type": "markdown",
   "id": "a10159c3",
   "metadata": {},
   "source": [
    "# Final Project (Opal Issan)"
   ]
  },
  {
   "cell_type": "code",
   "execution_count": 47,
   "id": "32347412",
   "metadata": {},
   "outputs": [],
   "source": [
    "import numpy as np\n",
    "import scipy.linalg as la\n",
    "from scipy import stats\n",
    "from scipy.interpolate import interp1d\n",
    "import scipy\n",
    "import time\n",
    "from scipy.sparse import diags\n",
    "from matplotlib import cm\n",
    "from matplotlib.ticker import LinearLocator\n",
    "import copy"
   ]
  },
  {
   "cell_type": "code",
   "execution_count": 48,
   "id": "f13a0a26",
   "metadata": {},
   "outputs": [],
   "source": [
    "import matplotlib.pyplot as plt\n",
    "import matplotlib\n",
    "font = {'family' : 'serif',\n",
    "        'size'   : 13}\n",
    "\n",
    "matplotlib.rc('font', **font)\n",
    "matplotlib.rc('xtick', labelsize=15) \n",
    "matplotlib.rc('ytick', labelsize=15) "
   ]
  },
  {
   "cell_type": "markdown",
   "id": "9003836c",
   "metadata": {},
   "source": [
    "# Problem 1\n"
   ]
  },
  {
   "cell_type": "markdown",
   "id": "d16536cb",
   "metadata": {},
   "source": [
    "# (b) Implementation of the two-dimensional Heat (or Diffusion) Equation "
   ]
  },
  {
   "cell_type": "code",
   "execution_count": 102,
   "id": "bd615461",
   "metadata": {},
   "outputs": [],
   "source": [
    "# intitialize paramters \n",
    "alpha = 1\n",
    "\n",
    "Nx = 21\n",
    "Ny = 21\n",
    "\n",
    "x = np.linspace(-1, 1, Nx)\n",
    "y = np.linspace(-1, 1, Ny)\n",
    "\n",
    "dx = x[1] - x[-1]\n",
    "dy = y[1] - y[-1]\n",
    "\n",
    "Tf = 5\n",
    "dt = 0.01\n",
    "Nt = int(Tf/dt) + 1\n",
    "\n",
    "t = np.linspace(0, Tf, Nt)"
   ]
  },
  {
   "cell_type": "code",
   "execution_count": 103,
   "id": "90e729e6",
   "metadata": {},
   "outputs": [],
   "source": [
    "def source(x, y, t):\n",
    "    # should return a vector since x and y are vectors. \n",
    "    source = np.zeros((len(x), len(y)))\n",
    "    for ii in range(len(x)):\n",
    "        for jj in range(len(y)):\n",
    "            source[ii, jj] = 2*(2 - x[ii]**2 - y[jj]**2)\n",
    "    return source"
   ]
  },
  {
   "cell_type": "code",
   "execution_count": 104,
   "id": "845cdcb3",
   "metadata": {},
   "outputs": [],
   "source": [
    "# Now, form the differential operator Ax. \n",
    "Ax = diags(-2*np.ones(Nx), 0).toarray()\n",
    "Ax += diags(np.ones(Nx - 1), -1).toarray()\n",
    "Ax += diags(np.ones(Nx - 1), 1).toarray()\n",
    "# First and last rows are zero for boundary conditions that are fixed. \n",
    "#Ax[0, :] = np.zeros(Nx)\n",
    "#Ax[-1, :] = np.zeros(Nx)\n",
    "\n",
    "Ax = Ax/(dx**2)"
   ]
  },
  {
   "cell_type": "code",
   "execution_count": 105,
   "id": "d29202f7",
   "metadata": {},
   "outputs": [],
   "source": [
    "# Now, form the differential operator Ay. \n",
    "Ay = diags(-2*np.ones(Ny), 0).toarray()\n",
    "Ay += diags(np.ones(Ny - 1), -1).toarray()\n",
    "Ay += diags(np.ones(Ny - 1), 1).toarray()\n",
    "# First and last rows are zero for boundary conditions that are fixed. \n",
    "#Ay[0, :] = np.zeros(Ny)\n",
    "#Ay[-1, :] = np.zeros(Ny)\n",
    "\n",
    "Ay = Ay/(dy**2)"
   ]
  },
  {
   "cell_type": "code",
   "execution_count": 106,
   "id": "24bb7324",
   "metadata": {},
   "outputs": [],
   "source": [
    "## solving a system of equations with tri-diag matrix Ax = d via the Thomas Algorithm \n",
    "def thomas_solver(A, d):\n",
    "    # d is the rhs vector when solving the system Ax = d.\n",
    "    \n",
    "    # a, b, c are the diagonal vectors where b is the main diag c is above diag and a is below. \n",
    "    a = np.diag(A, -1)\n",
    "    b = np.diag(A, 0)\n",
    "    c = np.diag(A, 1)\n",
    "    \n",
    "    N = len(d) # dimension of RHS vector. \n",
    "    \n",
    "    ac, bc, cc, dc = map(np.array, (a, b, c, d)) # copy arrays\n",
    "    \n",
    "    for kk in range(1, N):\n",
    "        mc = ac[kk-1]/bc[kk-1]\n",
    "        bc[kk] = bc[kk] - mc*cc[kk-1] \n",
    "        dc[kk] = dc[kk] - mc*dc[kk-1]\n",
    "        \n",
    "    xc = np.copy(bc)\n",
    "    xc[-1] = dc[-1]/bc[-1]\n",
    "\n",
    "    for jj in range(N-2, -1, -1):\n",
    "        xc[jj] = (dc[jj]-cc[jj]*xc[jj+1])/bc[jj]\n",
    "\n",
    "    return xc"
   ]
  },
  {
   "cell_type": "code",
   "execution_count": 138,
   "id": "fb094b5b",
   "metadata": {},
   "outputs": [],
   "source": [
    "res = np.zeros((Nx, Ny, Nt))\n",
    "\n",
    "# initial condition \n",
    "res[:, :, 0] =  np.zeros((Nx, Ny))\n",
    "\n",
    "\n",
    "for ii in range(1):\n",
    "    # RHS Matrix \n",
    "    # step 1: first differentiate with respect to y. \n",
    "    A_MAT_y = (np.eye(Ny) + alpha*dt/2 *Ay)\n",
    "    MAT_1 = np.zeros((Nx, Ny))\n",
    "    \n",
    "    for jj in range(0, Nx ):\n",
    "        MAT_1[jj, :] = np.matmul(A_MAT_y, res[jj, :, ii])\n",
    "    \n",
    "\n",
    "    # step 2: next differentiate with respect to x. \n",
    "    A_MAT_x = (np.eye(Nx) + alpha*dt/2 *Ax)   \n",
    "    MAT_2 = np.zeros((Nx, Ny))\n",
    "    \n",
    "    for jj in range(0, Ny ):\n",
    "        MAT_2[:, jj] = np.matmul(A_MAT_x, MAT_1[:, jj])  \n",
    "        \n",
    "    # step 3: add source term    \n",
    "    RHS = MAT_2 + dt*source(x, y, t[ii])\n",
    "\n",
    "    # step 4: solve the first linear equation using thomas algorithm. \n",
    "    A_MAT_x = (np.eye(Nx) - alpha*dt/2 *Ax)\n",
    "    LHS_1 = np.zeros((Nx, Ny))\n",
    "    \n",
    "    for jj in range(1, Ny - 1):\n",
    "        LHS_1[:, jj] = np.matmul(np.linalg.inv(A_MAT_x), RHS[:, jj])\n",
    "        #LHS_1[:, jj] = thomas_solver(A=A_MAT_x, d=RHS[:, jj])\n",
    "    \n",
    "    LHS_1[0, :] = 0\n",
    "    LHS_1[0, :] = 0\n",
    "    \n",
    "    # step 2: solve the second linear equation using thomas algorithm. \n",
    "    A_MAT_y = (np.eye(Ny) - alpha*dt/2 *Ay)\n",
    "    \n",
    "    for kk in range(1, Nx - 1):\n",
    "        res[kk, :, ii + 1] = np.matmul(np.linalg.inv(A_MAT_y), LHS_1[kk, :])\n",
    "        #res[kk, :, ii + 1] = thomas_solver(A=A_MAT_y, d=LHS_1[kk, :])\n",
    "        \n",
    "    #res[:, 0, ii+1] = 0\n",
    "    #res[:, -1, ii+1] = 0"
   ]
  },
  {
   "cell_type": "code",
   "execution_count": 139,
   "id": "0d1daf96",
   "metadata": {},
   "outputs": [
    {
     "data": {
      "text/plain": [
       "Text(0.5, 1.0, 't = 5.0')"
      ]
     },
     "execution_count": 139,
     "metadata": {},
     "output_type": "execute_result"
    },
    {
     "data": {
      "image/png": "[encoded data removed]",
      "text/plain": [
       "<Figure size 720x720 with 8 Axes>"
      ]
     },
     "metadata": {
      "needs_background": "light"
     },
     "output_type": "display_data"
    }
   ],
   "source": [
    "fig, ax = plt.subplots(ncols=2, nrows=2, figsize=(10, 10))\n",
    "\n",
    "N1, N2, N3, N4 = 0, 1, 2*Nt//3, Nt-1\n",
    "pos = ax[0, 0].imshow(res[:, :, N1], origin=\"lower\")\n",
    "fig.colorbar(pos, ax=ax[0, 0])\n",
    "ax[0, 0].set_title(\"t = \" + str(t[N1]))\n",
    "\n",
    "\n",
    "pos = ax[0, 1].imshow(res[:, :, N2], origin=\"lower\")\n",
    "fig.colorbar(pos, ax=ax[0, 1])\n",
    "ax[0, 1].set_title(\"t = \" + str(t[N2]))\n",
    "\n",
    "pos = ax[1, 0].imshow(res[:, :, N3], origin=\"lower\")\n",
    "fig.colorbar(pos, ax=ax[1, 0])\n",
    "ax[1, 0].set_title(\"t = \" + str(t[N3]))\n",
    "\n",
    "pos = ax[1, 1].imshow(res[:, :, N4], origin=\"lower\")\n",
    "fig.colorbar(pos, ax=ax[1, 1])\n",
    "ax[1, 1].set_title(\"t = \" + str(t[N4]))"
   ]
  },
  {
   "cell_type": "code",
   "execution_count": 117,
   "id": "92f9fee6",
   "metadata": {},
   "outputs": [],
   "source": [
    "true_sol = np.zeros((Nx, Ny))\n",
    "\n",
    "for ii in range(Nx):\n",
    "    for jj in range(Ny):\n",
    "        true_sol[ii, jj] = (x[ii]**2 -1)*(y[jj]**2 - 1)\n",
    "        "
   ]
  },
  {
   "cell_type": "code",
   "execution_count": 118,
   "id": "cbc072cd",
   "metadata": {},
   "outputs": [
    {
     "data": {
      "text/plain": [
       "<matplotlib.colorbar.Colorbar at 0x12d3eb250>"
      ]
     },
     "execution_count": 118,
     "metadata": {},
     "output_type": "execute_result"
    },
    {
     "data": {
      "image/png": "[encoded data removed]",
      "text/plain": [
       "<Figure size 432x288 with 2 Axes>"
      ]
     },
     "metadata": {
      "needs_background": "light"
     },
     "output_type": "display_data"
    }
   ],
   "source": [
    "\n",
    "pos = plt.imshow(true_sol)\n",
    "plt.colorbar(pos)"
   ]
  },
  {
   "cell_type": "code",
   "execution_count": 119,
   "id": "758d9174",
   "metadata": {},
   "outputs": [
    {
     "data": {
      "text/plain": [
       "<matplotlib.image.AxesImage at 0x12d46dfd0>"
      ]
     },
     "execution_count": 119,
     "metadata": {},
     "output_type": "execute_result"
    },
    {
     "data": {
      "image/png": "[encoded data removed]",
      "text/plain": [
       "<Figure size 432x288 with 1 Axes>"
      ]
     },
     "metadata": {
      "needs_background": "light"
     },
     "output_type": "display_data"
    }
   ],
   "source": [
    "plt.imshow(source(x, y, t[ii]))"
   ]
  },
  {
   "cell_type": "code",
   "execution_count": null,
   "id": "e1f2b803",
   "metadata": {},
   "outputs": [],
   "source": []
  }
 ],
 "metadata": {
  "kernelspec": {
   "display_name": "Python 3 (ipykernel)",
   "language": "python",
   "name": "python3"
  },
  "language_info": {
   "codemirror_mode": {
    "name": "ipython",
    "version": 3
   },
   "file_extension": ".py",
   "mimetype": "text/x-python",
   "name": "python",
   "nbconvert_exporter": "python",
   "pygments_lexer": "ipython3",
   "version": "3.9.6"
  }
 },
 "nbformat": 4,
 "nbformat_minor": 5
}
